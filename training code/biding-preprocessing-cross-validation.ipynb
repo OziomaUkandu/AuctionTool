{
 "cells": [
  {
   "cell_type": "code",
   "execution_count": 1,
   "id": "dying-plain",
   "metadata": {
    "_cell_guid": "b1076dfc-b9ad-4769-8c92-a6c4dae69d19",
    "_uuid": "8f2839f25d086af736a60e9eeb907d3b93b6e0e5",
    "execution": {
     "iopub.execute_input": "2021-04-19T05:15:12.172114Z",
     "iopub.status.busy": "2021-04-19T05:15:12.171094Z",
     "iopub.status.idle": "2021-04-19T05:15:14.841353Z",
     "shell.execute_reply": "2021-04-19T05:15:14.840687Z"
    },
    "papermill": {
     "duration": 2.698529,
     "end_time": "2021-04-19T05:15:14.841528",
     "exception": false,
     "start_time": "2021-04-19T05:15:12.142999",
     "status": "completed"
    },
    "tags": []
   },
   "outputs": [],
   "source": [
    "# This Python 3 environment comes with many helpful analytics libraries installed\n",
    "# It is defined by the kaggle/python Docker image: https://github.com/kaggle/docker-python\n",
    "# For example, here's several helpful packages to load\n",
    "\n",
    "import numpy as np # linear algebra\n",
    "import pandas as pd # data processing, CSV file I/O (e.g. pd.read_csv)\n",
    "import seaborn as sns\n",
    "import matplotlib.pyplot as plt\n",
    "\n",
    "import sklearn\n",
    "import pickle\n",
    "import re\n",
    "import nltk\n",
    "import spacy\n",
    "import string\n",
    "pd.options.mode.chained_assignment = None\n",
    "\n",
    "# import libraries we'll use\n",
    "import spacy # fast NLP\n",
    "import pandas as pd # dataframes\n",
    "import langid # language identification (i.e. what language is this?)\n",
    "from nltk.classify.textcat import TextCat # language identification from NLTK\n",
    "\n",
    "import math\n",
    "import sklearn.model_selection as ms\n",
    "import sklearn.metrics as sklm\n",
    "import joblib\n",
    "\n",
    "\n",
    "pd.set_option(\"max_colwidth\", 1000)"
   ]
  },
  {
   "cell_type": "code",
   "execution_count": 2,
   "id": "white-membership",
   "metadata": {
    "execution": {
     "iopub.execute_input": "2021-04-19T05:15:14.878398Z",
     "iopub.status.busy": "2021-04-19T05:15:14.877784Z",
     "iopub.status.idle": "2021-04-19T05:15:14.885153Z",
     "shell.execute_reply": "2021-04-19T05:15:14.885595Z"
    },
    "papermill": {
     "duration": 0.026819,
     "end_time": "2021-04-19T05:15:14.885776",
     "exception": false,
     "start_time": "2021-04-19T05:15:14.858957",
     "status": "completed"
    },
    "tags": []
   },
   "outputs": [],
   "source": [
    "#Global variable\n",
    "N_FOLDS=5 #Number of cross validation folds\n",
    "use_catogerical_features=True  #False: Use only text data"
   ]
  },
  {
   "cell_type": "code",
   "execution_count": 3,
   "id": "fancy-imagination",
   "metadata": {
    "execution": {
     "iopub.execute_input": "2021-04-19T05:15:14.922305Z",
     "iopub.status.busy": "2021-04-19T05:15:14.921626Z",
     "iopub.status.idle": "2021-04-19T05:15:15.024185Z",
     "shell.execute_reply": "2021-04-19T05:15:15.023684Z"
    },
    "papermill": {
     "duration": 0.122266,
     "end_time": "2021-04-19T05:15:15.024371",
     "exception": false,
     "start_time": "2021-04-19T05:15:14.902105",
     "status": "completed"
    },
    "tags": []
   },
   "outputs": [],
   "source": [
    "#Read the data\n",
    "df=pd.read_csv('../input/biding-dataset/CombinedData.csv')\n",
    "#Drop rows with missing values\n",
    "df=df.dropna().reset_index()"
   ]
  },
  {
   "cell_type": "code",
   "execution_count": 4,
   "id": "lesbian-norwegian",
   "metadata": {
    "execution": {
     "iopub.execute_input": "2021-04-19T05:15:15.066069Z",
     "iopub.status.busy": "2021-04-19T05:15:15.065304Z",
     "iopub.status.idle": "2021-04-19T05:15:15.085291Z",
     "shell.execute_reply": "2021-04-19T05:15:15.085810Z"
    },
    "papermill": {
     "duration": 0.043627,
     "end_time": "2021-04-19T05:15:15.085994",
     "exception": false,
     "start_time": "2021-04-19T05:15:15.042367",
     "status": "completed"
    },
    "tags": []
   },
   "outputs": [
    {
     "data": {
      "text/html": [
       "<div>\n",
       "<style scoped>\n",
       "    .dataframe tbody tr th:only-of-type {\n",
       "        vertical-align: middle;\n",
       "    }\n",
       "\n",
       "    .dataframe tbody tr th {\n",
       "        vertical-align: top;\n",
       "    }\n",
       "\n",
       "    .dataframe thead th {\n",
       "        text-align: right;\n",
       "    }\n",
       "</style>\n",
       "<table border=\"1\" class=\"dataframe\">\n",
       "  <thead>\n",
       "    <tr style=\"text-align: right;\">\n",
       "      <th></th>\n",
       "      <th>index</th>\n",
       "      <th>Unnamed: 0</th>\n",
       "      <th>Auction Name</th>\n",
       "      <th>Days</th>\n",
       "      <th>Date</th>\n",
       "      <th>Winning Bid</th>\n",
       "      <th>Starting Bid</th>\n",
       "      <th>Currency</th>\n",
       "      <th>Hierarchy</th>\n",
       "      <th>Category 1</th>\n",
       "      <th>Category 2</th>\n",
       "    </tr>\n",
       "  </thead>\n",
       "  <tbody>\n",
       "    <tr>\n",
       "      <th>0</th>\n",
       "      <td>0</td>\n",
       "      <td>0</td>\n",
       "      <td>EICHHOLTZ Barwagen Trolley Townhouse Gold NP 1699€</td>\n",
       "      <td>7</td>\n",
       "      <td>17 Jan 2021 at 11:10:37am GMT</td>\n",
       "      <td>605.00</td>\n",
       "      <td>1.00</td>\n",
       "      <td>EUR</td>\n",
       "      <td>Home, Furniture &amp; DIY&gt;Furniture&gt;Drinks Trolleys &amp; Tea Trolleys</td>\n",
       "      <td>Furniture</td>\n",
       "      <td>Drinks Trolleys &amp; Tea Trolleys</td>\n",
       "    </tr>\n",
       "    <tr>\n",
       "      <th>1</th>\n",
       "      <td>1</td>\n",
       "      <td>1</td>\n",
       "      <td>CLEARANCE - HAMPTON GREY LEATHER 2 SEATER CHESTERFIELD SOFA - T9361</td>\n",
       "      <td>5</td>\n",
       "      <td>22 Feb 2021 at 9:25:58pm GMT</td>\n",
       "      <td>405.10</td>\n",
       "      <td>0.99</td>\n",
       "      <td>£</td>\n",
       "      <td>Home, Furniture &amp; DIY&gt;Furniture&gt;Sofas, Armchairs &amp; Couches</td>\n",
       "      <td>Furniture</td>\n",
       "      <td>Sofas, Armchairs &amp; Couches</td>\n",
       "    </tr>\n",
       "    <tr>\n",
       "      <th>2</th>\n",
       "      <td>2</td>\n",
       "      <td>2</td>\n",
       "      <td>⚽  LARGE CHESTERFIELD  FOOTSTOOL VELVET GREY SIZE 35\" X 35\" X H 16\" FREE UK POST</td>\n",
       "      <td>7</td>\n",
       "      <td>25 Jan 2021 at 8:16:23pm GMT</td>\n",
       "      <td>154.85</td>\n",
       "      <td>1.00</td>\n",
       "      <td>£</td>\n",
       "      <td>Home, Furniture &amp; DIY&gt;Furniture&gt;Ottomans &amp; Footstools</td>\n",
       "      <td>Furniture</td>\n",
       "      <td>Ottomans &amp; Footstools</td>\n",
       "    </tr>\n",
       "    <tr>\n",
       "      <th>3</th>\n",
       "      <td>3</td>\n",
       "      <td>3</td>\n",
       "      <td>Außergewöhnlicher Designstuhl sucht Liebhaber</td>\n",
       "      <td>10</td>\n",
       "      <td>31 Jan 2021 at 6:50:43pm GMT</td>\n",
       "      <td>921.85</td>\n",
       "      <td>1.00</td>\n",
       "      <td>EUR</td>\n",
       "      <td>Home, Furniture &amp; DIY&gt;Furniture&gt;Chairs</td>\n",
       "      <td>Furniture</td>\n",
       "      <td>Chairs</td>\n",
       "    </tr>\n",
       "    <tr>\n",
       "      <th>4</th>\n",
       "      <td>4</td>\n",
       "      <td>4</td>\n",
       "      <td>BAUHAUS Nachbau Barcelona Chair + Hocker im Design von Mies van der Rohe Leder!</td>\n",
       "      <td>10</td>\n",
       "      <td>7 Feb 2021 at 7:14:08pm GMT</td>\n",
       "      <td>632.00</td>\n",
       "      <td>1.00</td>\n",
       "      <td>EUR</td>\n",
       "      <td>Home, Furniture &amp; DIY&gt;Furniture&gt;Sofas, Armchairs &amp; Couches</td>\n",
       "      <td>Furniture</td>\n",
       "      <td>Sofas, Armchairs &amp; Couches</td>\n",
       "    </tr>\n",
       "  </tbody>\n",
       "</table>\n",
       "</div>"
      ],
      "text/plain": [
       "   index  Unnamed: 0  \\\n",
       "0      0           0   \n",
       "1      1           1   \n",
       "2      2           2   \n",
       "3      3           3   \n",
       "4      4           4   \n",
       "\n",
       "                                                                       Auction Name  \\\n",
       "0                                EICHHOLTZ Barwagen Trolley Townhouse Gold NP 1699€   \n",
       "1               CLEARANCE - HAMPTON GREY LEATHER 2 SEATER CHESTERFIELD SOFA - T9361   \n",
       "2  ⚽  LARGE CHESTERFIELD  FOOTSTOOL VELVET GREY SIZE 35\" X 35\" X H 16\" FREE UK POST   \n",
       "3                                    Außergewöhnlicher Designstuhl sucht Liebhaber    \n",
       "4   BAUHAUS Nachbau Barcelona Chair + Hocker im Design von Mies van der Rohe Leder!   \n",
       "\n",
       "   Days                           Date  Winning Bid  Starting Bid Currency  \\\n",
       "0     7  17 Jan 2021 at 11:10:37am GMT       605.00          1.00      EUR   \n",
       "1     5   22 Feb 2021 at 9:25:58pm GMT       405.10          0.99        £   \n",
       "2     7   25 Jan 2021 at 8:16:23pm GMT       154.85          1.00        £   \n",
       "3    10   31 Jan 2021 at 6:50:43pm GMT       921.85          1.00      EUR   \n",
       "4    10    7 Feb 2021 at 7:14:08pm GMT       632.00          1.00      EUR   \n",
       "\n",
       "                                                        Hierarchy Category 1  \\\n",
       "0  Home, Furniture & DIY>Furniture>Drinks Trolleys & Tea Trolleys  Furniture   \n",
       "1      Home, Furniture & DIY>Furniture>Sofas, Armchairs & Couches  Furniture   \n",
       "2           Home, Furniture & DIY>Furniture>Ottomans & Footstools  Furniture   \n",
       "3                          Home, Furniture & DIY>Furniture>Chairs  Furniture   \n",
       "4      Home, Furniture & DIY>Furniture>Sofas, Armchairs & Couches  Furniture   \n",
       "\n",
       "                       Category 2  \n",
       "0  Drinks Trolleys & Tea Trolleys  \n",
       "1      Sofas, Armchairs & Couches  \n",
       "2           Ottomans & Footstools  \n",
       "3                          Chairs  \n",
       "4      Sofas, Armchairs & Couches  "
      ]
     },
     "execution_count": 4,
     "metadata": {},
     "output_type": "execute_result"
    }
   ],
   "source": [
    "df.head()"
   ]
  },
  {
   "cell_type": "markdown",
   "id": "vulnerable-string",
   "metadata": {
    "papermill": {
     "duration": 0.017896,
     "end_time": "2021-04-19T05:15:15.122161",
     "exception": false,
     "start_time": "2021-04-19T05:15:15.104265",
     "status": "completed"
    },
    "tags": []
   },
   "source": [
    "## Lower casing\n",
    "We will create a new dataframe `df2` to save all our text preprocessing to compare the results of each step.\n",
    "* We start by lower casing"
   ]
  },
  {
   "cell_type": "code",
   "execution_count": 5,
   "id": "limiting-prince",
   "metadata": {
    "execution": {
     "iopub.execute_input": "2021-04-19T05:15:15.161853Z",
     "iopub.status.busy": "2021-04-19T05:15:15.161154Z",
     "iopub.status.idle": "2021-04-19T05:15:15.169390Z",
     "shell.execute_reply": "2021-04-19T05:15:15.169984Z"
    },
    "papermill": {
     "duration": 0.029732,
     "end_time": "2021-04-19T05:15:15.170190",
     "exception": false,
     "start_time": "2021-04-19T05:15:15.140458",
     "status": "completed"
    },
    "tags": []
   },
   "outputs": [],
   "source": [
    "df2=pd.DataFrame()\n",
    "df2[\"text_lower\"] = df[\"Auction Name\"].str.lower()"
   ]
  },
  {
   "cell_type": "markdown",
   "id": "sapphire-patent",
   "metadata": {
    "papermill": {
     "duration": 0.016913,
     "end_time": "2021-04-19T05:15:15.204578",
     "exception": false,
     "start_time": "2021-04-19T05:15:15.187665",
     "status": "completed"
    },
    "tags": []
   },
   "source": [
    "## Remove punctuation"
   ]
  },
  {
   "cell_type": "code",
   "execution_count": 6,
   "id": "prescribed-george",
   "metadata": {
    "execution": {
     "iopub.execute_input": "2021-04-19T05:15:15.245566Z",
     "iopub.status.busy": "2021-04-19T05:15:15.244804Z",
     "iopub.status.idle": "2021-04-19T05:15:15.273468Z",
     "shell.execute_reply": "2021-04-19T05:15:15.273929Z"
    },
    "papermill": {
     "duration": 0.050438,
     "end_time": "2021-04-19T05:15:15.274151",
     "exception": false,
     "start_time": "2021-04-19T05:15:15.223713",
     "status": "completed"
    },
    "tags": []
   },
   "outputs": [],
   "source": [
    "PUNCT_TO_REMOVE = string.punctuation\n",
    "def remove_punctuation(text):\n",
    "    \"\"\"custom function to remove the punctuation\"\"\"\n",
    "    return text.translate(str.maketrans('', '', PUNCT_TO_REMOVE))\n",
    "\n",
    "df2[\"text_wo_punct\"] = df2[\"text_lower\"].apply(lambda text: remove_punctuation(text))"
   ]
  },
  {
   "cell_type": "markdown",
   "id": "electoral-wisdom",
   "metadata": {
    "papermill": {
     "duration": 0.017455,
     "end_time": "2021-04-19T05:15:15.309389",
     "exception": false,
     "start_time": "2021-04-19T05:15:15.291934",
     "status": "completed"
    },
    "tags": []
   },
   "source": [
    "## Remove stopwords\n",
    "We have many languages in this dataset: English, German, Italian and French. We will remove stop words for english and German."
   ]
  },
  {
   "cell_type": "code",
   "execution_count": 7,
   "id": "swedish-raleigh",
   "metadata": {
    "execution": {
     "iopub.execute_input": "2021-04-19T05:15:15.353778Z",
     "iopub.status.busy": "2021-04-19T05:15:15.353070Z",
     "iopub.status.idle": "2021-04-19T05:15:15.392344Z",
     "shell.execute_reply": "2021-04-19T05:15:15.391699Z"
    },
    "papermill": {
     "duration": 0.064249,
     "end_time": "2021-04-19T05:15:15.392490",
     "exception": false,
     "start_time": "2021-04-19T05:15:15.328241",
     "status": "completed"
    },
    "tags": []
   },
   "outputs": [],
   "source": [
    "from nltk.corpus import stopwords\n",
    "#\", \".join(stopwords.words('english'))\n",
    "STOPWORDS = set(stopwords.words('english'))\n",
    "STOPWORDS2 = set(stopwords.words('german'))\n",
    "def remove_stopwords(text):\n",
    "    \"\"\"custom function to remove the stopwords\"\"\"\n",
    "    return \" \".join([word for word in str(text).split() if word not in STOPWORDS])\n",
    "\n",
    "def remove_stopwords2(text):\n",
    "    \"\"\"custom function to remove the stopwords\"\"\"\n",
    "    return \" \".join([word for word in str(text).split() if word not in STOPWORDS2])\n",
    "\n",
    "df2[\"text_wo_stop\"] = df2[\"text_wo_punct\"].apply(lambda text: remove_stopwords(text))\n",
    "df2[\"text_wo_stop\"] = df2[\"text_wo_stop\"].apply(lambda text: remove_stopwords2(text))\n"
   ]
  },
  {
   "cell_type": "markdown",
   "id": "eligible-eight",
   "metadata": {
    "papermill": {
     "duration": 0.019336,
     "end_time": "2021-04-19T05:15:15.431565",
     "exception": false,
     "start_time": "2021-04-19T05:15:15.412229",
     "status": "completed"
    },
    "tags": []
   },
   "source": [
    "## Lemmatizer\n",
    "Lemmatizer helps to get to words into their original format, for example the verbs to the infinitif and the nouns are stripped from the prefixes and suffixes."
   ]
  },
  {
   "cell_type": "code",
   "execution_count": 8,
   "id": "organic-controversy",
   "metadata": {
    "execution": {
     "iopub.execute_input": "2021-04-19T05:15:15.475058Z",
     "iopub.status.busy": "2021-04-19T05:15:15.473943Z",
     "iopub.status.idle": "2021-04-19T05:15:21.155067Z",
     "shell.execute_reply": "2021-04-19T05:15:21.154394Z"
    },
    "papermill": {
     "duration": 5.705736,
     "end_time": "2021-04-19T05:15:21.155210",
     "exception": false,
     "start_time": "2021-04-19T05:15:15.449474",
     "status": "completed"
    },
    "tags": []
   },
   "outputs": [],
   "source": [
    "from nltk.corpus import wordnet\n",
    "from nltk.stem import WordNetLemmatizer\n",
    "\n",
    "lemmatizer = WordNetLemmatizer()\n",
    "wordnet_map = {\"N\":wordnet.NOUN, \"V\":wordnet.VERB, \"J\":wordnet.ADJ, \"R\":wordnet.ADV}\n",
    "def lemmatize_words(text):\n",
    "    pos_tagged_text = nltk.pos_tag(text.split())\n",
    "    return \" \".join([lemmatizer.lemmatize(word, wordnet_map.get(pos[0], wordnet.NOUN)) for word, pos in pos_tagged_text])\n",
    "\n",
    "df2[\"text_lemmatized\"] = df2[\"text_wo_stop\"].apply(lambda text: lemmatize_words(text))\n"
   ]
  },
  {
   "cell_type": "markdown",
   "id": "right-point",
   "metadata": {
    "papermill": {
     "duration": 0.019014,
     "end_time": "2021-04-19T05:15:21.193231",
     "exception": false,
     "start_time": "2021-04-19T05:15:21.174217",
     "status": "completed"
    },
    "tags": []
   },
   "source": [
    "## Porter Stemmer:\n",
    "Porter Stemmer is the same as the lemmatizer, only a bit worse,included  here because  its in rapidminer file. Not using porter stemmer in modeling."
   ]
  },
  {
   "cell_type": "code",
   "execution_count": 9,
   "id": "sexual-nepal",
   "metadata": {
    "execution": {
     "iopub.execute_input": "2021-04-19T05:15:21.248277Z",
     "iopub.status.busy": "2021-04-19T05:15:21.247356Z",
     "iopub.status.idle": "2021-04-19T05:15:22.048104Z",
     "shell.execute_reply": "2021-04-19T05:15:22.047505Z"
    },
    "papermill": {
     "duration": 0.835714,
     "end_time": "2021-04-19T05:15:22.048238",
     "exception": false,
     "start_time": "2021-04-19T05:15:21.212524",
     "status": "completed"
    },
    "tags": []
   },
   "outputs": [],
   "source": [
    "from nltk.stem.porter import PorterStemmer\n",
    "stemmer = PorterStemmer()\n",
    "def stem_words(text):\n",
    "    return \" \".join([stemmer.stem(word) for word in text.split()])\n",
    "\n",
    "df2[\"text_stemmed\"] = df2[\"text_wo_stop\"].apply(lambda text: stem_words(text))"
   ]
  },
  {
   "cell_type": "markdown",
   "id": "finite-dominant",
   "metadata": {
    "papermill": {
     "duration": 0.019469,
     "end_time": "2021-04-19T05:15:22.086644",
     "exception": false,
     "start_time": "2021-04-19T05:15:22.067175",
     "status": "completed"
    },
    "tags": []
   },
   "source": [
    "# Remove emojis:\n",
    "I noticed there are some emojis in some items likes DVDs and footballs. It's better to remove them."
   ]
  },
  {
   "cell_type": "code",
   "execution_count": 10,
   "id": "middle-cotton",
   "metadata": {
    "execution": {
     "iopub.execute_input": "2021-04-19T05:15:22.129263Z",
     "iopub.status.busy": "2021-04-19T05:15:22.128320Z",
     "iopub.status.idle": "2021-04-19T05:15:22.155408Z",
     "shell.execute_reply": "2021-04-19T05:15:22.155896Z"
    },
    "papermill": {
     "duration": 0.049684,
     "end_time": "2021-04-19T05:15:22.156061",
     "exception": false,
     "start_time": "2021-04-19T05:15:22.106377",
     "status": "completed"
    },
    "tags": []
   },
   "outputs": [],
   "source": [
    "# Reference : https://gist.github.com/slowkow/7a7f61f495e3dbb7e3d767f97bd7304b\n",
    "def remove_emoji(string):\n",
    "    emoji_pattern = re.compile(\"[\"\n",
    "                           u\"\\U0001F600-\\U0001F64F\"  # emoticons\n",
    "                           u\"\\U0001F300-\\U0001F5FF\"  # symbols & pictographs\n",
    "                           u\"\\U0001F680-\\U0001F6FF\"  # transport & map symbols\n",
    "                           u\"\\U0001F1E0-\\U0001F1FF\"  # flags (iOS)\n",
    "                           u\"\\U00002702-\\U000027B0\"\n",
    "                           u\"\\U000024C2-\\U0001F251\"\n",
    "                           \"]+\", flags=re.UNICODE)\n",
    "    return emoji_pattern.sub(r'', string)\n",
    "\n",
    "df2[\"remove_emoji\"] = df2[\"text_lemmatized\"].apply(lambda text: remove_emoji(text))"
   ]
  },
  {
   "cell_type": "markdown",
   "id": "functional-innocent",
   "metadata": {
    "papermill": {
     "duration": 0.018595,
     "end_time": "2021-04-19T05:15:22.193249",
     "exception": false,
     "start_time": "2021-04-19T05:15:22.174654",
     "status": "completed"
    },
    "tags": []
   },
   "source": [
    "### The difference between the 6 text preprocessing steps:"
   ]
  },
  {
   "cell_type": "code",
   "execution_count": 11,
   "id": "opponent-champagne",
   "metadata": {
    "execution": {
     "iopub.execute_input": "2021-04-19T05:15:22.234247Z",
     "iopub.status.busy": "2021-04-19T05:15:22.233363Z",
     "iopub.status.idle": "2021-04-19T05:15:22.247675Z",
     "shell.execute_reply": "2021-04-19T05:15:22.247157Z"
    },
    "papermill": {
     "duration": 0.035511,
     "end_time": "2021-04-19T05:15:22.247827",
     "exception": false,
     "start_time": "2021-04-19T05:15:22.212316",
     "status": "completed"
    },
    "tags": []
   },
   "outputs": [
    {
     "data": {
      "text/html": [
       "<div>\n",
       "<style scoped>\n",
       "    .dataframe tbody tr th:only-of-type {\n",
       "        vertical-align: middle;\n",
       "    }\n",
       "\n",
       "    .dataframe tbody tr th {\n",
       "        vertical-align: top;\n",
       "    }\n",
       "\n",
       "    .dataframe thead th {\n",
       "        text-align: right;\n",
       "    }\n",
       "</style>\n",
       "<table border=\"1\" class=\"dataframe\">\n",
       "  <thead>\n",
       "    <tr style=\"text-align: right;\">\n",
       "      <th></th>\n",
       "      <th>text_lower</th>\n",
       "      <th>text_wo_punct</th>\n",
       "      <th>text_wo_stop</th>\n",
       "      <th>text_lemmatized</th>\n",
       "      <th>text_stemmed</th>\n",
       "      <th>remove_emoji</th>\n",
       "    </tr>\n",
       "  </thead>\n",
       "  <tbody>\n",
       "    <tr>\n",
       "      <th>1023</th>\n",
       "      <td>sony svf1521q1ew 15.6 in laptop i5-3337u 1.80 ghz 4gb 750 gb hdd win 10 home</td>\n",
       "      <td>sony svf1521q1ew 156 in laptop i53337u 180 ghz 4gb 750 gb hdd win 10 home</td>\n",
       "      <td>sony svf1521q1ew 156 laptop i53337u 180 ghz 4gb 750 gb hdd win 10 home</td>\n",
       "      <td>sony svf1521q1ew 156 laptop i53337u 180 ghz 4gb 750 gb hdd win 10 home</td>\n",
       "      <td>soni svf1521q1ew 156 laptop i53337u 180 ghz 4gb 750 gb hdd win 10 home</td>\n",
       "      <td>sony svf1521q1ew 156 laptop i53337u 180 ghz 4gb 750 gb hdd win 10 home</td>\n",
       "    </tr>\n",
       "  </tbody>\n",
       "</table>\n",
       "</div>"
      ],
      "text/plain": [
       "                                                                        text_lower  \\\n",
       "1023  sony svf1521q1ew 15.6 in laptop i5-3337u 1.80 ghz 4gb 750 gb hdd win 10 home   \n",
       "\n",
       "                                                                  text_wo_punct  \\\n",
       "1023  sony svf1521q1ew 156 in laptop i53337u 180 ghz 4gb 750 gb hdd win 10 home   \n",
       "\n",
       "                                                                text_wo_stop  \\\n",
       "1023  sony svf1521q1ew 156 laptop i53337u 180 ghz 4gb 750 gb hdd win 10 home   \n",
       "\n",
       "                                                             text_lemmatized  \\\n",
       "1023  sony svf1521q1ew 156 laptop i53337u 180 ghz 4gb 750 gb hdd win 10 home   \n",
       "\n",
       "                                                                text_stemmed  \\\n",
       "1023  soni svf1521q1ew 156 laptop i53337u 180 ghz 4gb 750 gb hdd win 10 home   \n",
       "\n",
       "                                                                remove_emoji  \n",
       "1023  sony svf1521q1ew 156 laptop i53337u 180 ghz 4gb 750 gb hdd win 10 home  "
      ]
     },
     "execution_count": 11,
     "metadata": {},
     "output_type": "execute_result"
    }
   ],
   "source": [
    "df2.sample(1)"
   ]
  },
  {
   "cell_type": "markdown",
   "id": "opposite-consolidation",
   "metadata": {
    "papermill": {
     "duration": 0.018571,
     "end_time": "2021-04-19T05:15:22.284347",
     "exception": false,
     "start_time": "2021-04-19T05:15:22.265776",
     "status": "completed"
    },
    "tags": []
   },
   "source": [
    "# TfidVectorizer:\n",
    "Finally; we have a clean text dataset ready to be converted to frequency vectors with TfidfVectorizer:\n",
    "\n",
    "* n_grams= (1,4)\n",
    "> We set n_grams= (1,4) to calculate the frequency of single words (1-gram), 2 words (2-gram), 3 words (3-grams) and 4 words."
   ]
  },
  {
   "cell_type": "code",
   "execution_count": 12,
   "id": "numerous-boundary",
   "metadata": {
    "execution": {
     "iopub.execute_input": "2021-04-19T05:15:22.327561Z",
     "iopub.status.busy": "2021-04-19T05:15:22.326609Z",
     "iopub.status.idle": "2021-04-19T05:15:22.328950Z",
     "shell.execute_reply": "2021-04-19T05:15:22.329480Z"
    },
    "papermill": {
     "duration": 0.02709,
     "end_time": "2021-04-19T05:15:22.329645",
     "exception": false,
     "start_time": "2021-04-19T05:15:22.302555",
     "status": "completed"
    },
    "tags": []
   },
   "outputs": [],
   "source": [
    "from sklearn.feature_extraction.text import TfidfVectorizer, CountVectorizer\n",
    "tfv = TfidfVectorizer(min_df=3,  max_features=None, \n",
    "            strip_accents='unicode', analyzer='word',token_pattern=r'\\w{1,}',\n",
    "            ngram_range=(1, 4), use_idf=1,smooth_idf=1,sublinear_tf=1,\n",
    "            stop_words = 'english')\n",
    "\n",
    "#pickle.dump(tfv, open('tfidVectorizer.pkl', 'wb'))\n"
   ]
  },
  {
   "cell_type": "markdown",
   "id": "compact-johnston",
   "metadata": {
    "papermill": {
     "duration": 0.018285,
     "end_time": "2021-04-19T05:15:22.365954",
     "exception": false,
     "start_time": "2021-04-19T05:15:22.347669",
     "status": "completed"
    },
    "tags": []
   },
   "source": [
    "# Metric:\n",
    "We set a function `score` to calculate the **metric RMSE**, which is a square root of the mean_squared_error."
   ]
  },
  {
   "cell_type": "code",
   "execution_count": 13,
   "id": "oriented-regression",
   "metadata": {
    "execution": {
     "iopub.execute_input": "2021-04-19T05:15:22.407025Z",
     "iopub.status.busy": "2021-04-19T05:15:22.406089Z",
     "iopub.status.idle": "2021-04-19T05:15:22.410576Z",
     "shell.execute_reply": "2021-04-19T05:15:22.411103Z"
    },
    "papermill": {
     "duration": 0.026231,
     "end_time": "2021-04-19T05:15:22.411300",
     "exception": false,
     "start_time": "2021-04-19T05:15:22.385069",
     "status": "completed"
    },
    "tags": []
   },
   "outputs": [],
   "source": [
    "def score(y_pred):\n",
    "    return str(math.sqrt(sklm.mean_squared_error(y_test, y_pred)))"
   ]
  },
  {
   "cell_type": "markdown",
   "id": "median-instrument",
   "metadata": {
    "papermill": {
     "duration": 0.018105,
     "end_time": "2021-04-19T05:15:22.447757",
     "exception": false,
     "start_time": "2021-04-19T05:15:22.429652",
     "status": "completed"
    },
    "tags": []
   },
   "source": [
    "# Cross validation strategy:\n",
    "Here we will split the data to k FOLDs for cross validation **based on 'category 1'**:\n",
    "* The idea is that some items that belong to the **category: furniture** don't cost the same as the items that belong the **category:DVD/Films**. So if we split the data to 5 folds where 1 fold only has DVD/Films rows in validation and furniture in training, the validation score will be bad because the model is validated on a DVD item while it was trained on a furniture item.\n",
    "* The problem is that we have 94 categories in 'Category 1' *(Which is a lot)*:"
   ]
  },
  {
   "cell_type": "code",
   "execution_count": 14,
   "id": "diagnostic-georgia",
   "metadata": {
    "execution": {
     "iopub.execute_input": "2021-04-19T05:15:22.489131Z",
     "iopub.status.busy": "2021-04-19T05:15:22.488214Z",
     "iopub.status.idle": "2021-04-19T05:15:22.498902Z",
     "shell.execute_reply": "2021-04-19T05:15:22.499457Z"
    },
    "papermill": {
     "duration": 0.033458,
     "end_time": "2021-04-19T05:15:22.499636",
     "exception": false,
     "start_time": "2021-04-19T05:15:22.466178",
     "status": "completed"
    },
    "tags": []
   },
   "outputs": [
    {
     "name": "stdout",
     "output_type": "stream",
     "text": [
      "Number of categories in category 1:\n"
     ]
    },
    {
     "data": {
      "text/plain": [
       "94"
      ]
     },
     "execution_count": 14,
     "metadata": {},
     "output_type": "execute_result"
    }
   ],
   "source": [
    "print('Number of categories in category 1:')\n",
    "len(df['Category 1'].unique())"
   ]
  },
  {
   "cell_type": "markdown",
   "id": "cosmetic-infrared",
   "metadata": {
    "papermill": {
     "duration": 0.018725,
     "end_time": "2021-04-19T05:15:22.539883",
     "exception": false,
     "start_time": "2021-04-19T05:15:22.521158",
     "status": "completed"
    },
    "tags": []
   },
   "source": [
    "Out of those 94 categories, only 15 categories have more than 40 items:"
   ]
  },
  {
   "cell_type": "code",
   "execution_count": 15,
   "id": "preceding-rough",
   "metadata": {
    "execution": {
     "iopub.execute_input": "2021-04-19T05:15:22.590487Z",
     "iopub.status.busy": "2021-04-19T05:15:22.589612Z",
     "iopub.status.idle": "2021-04-19T05:15:22.595895Z",
     "shell.execute_reply": "2021-04-19T05:15:22.595302Z"
    },
    "papermill": {
     "duration": 0.035682,
     "end_time": "2021-04-19T05:15:22.596171",
     "exception": false,
     "start_time": "2021-04-19T05:15:22.560489",
     "status": "completed"
    },
    "tags": []
   },
   "outputs": [
    {
     "data": {
      "text/plain": [
       "DVDs, Films & TV                   1002\n",
       "Furniture                           859\n",
       "Watches                             838\n",
       "Laptops & Netbooks                  524\n",
       "Fragrances                          266\n",
       "Computers/Tablets & Networking      139\n",
       "Computer Components & Parts         130\n",
       "Facial Skin Care                     93\n",
       "Hair Styling Devices                 87\n",
       "Hair Extensions & Wigs               75\n",
       "Desktops & All-in-Ones               70\n",
       "Fine Rings                           67\n",
       "Electric Shavers                     47\n",
       "Massage                              44\n",
       "Electric Shaving & Hair Removal      42\n",
       "Name: Category 1, dtype: int64"
      ]
     },
     "execution_count": 15,
     "metadata": {},
     "output_type": "execute_result"
    }
   ],
   "source": [
    "df['Category 1'].value_counts()[:15]"
   ]
  },
  {
   "cell_type": "markdown",
   "id": "empty-projector",
   "metadata": {
    "papermill": {
     "duration": 0.019437,
     "end_time": "2021-04-19T05:15:22.637066",
     "exception": false,
     "start_time": "2021-04-19T05:15:22.617629",
     "status": "completed"
    },
    "tags": []
   },
   "source": [
    "The idea is to keep those 15 categories above, and the rest that have less than 40 items will be all gathered together under one new category that we will call: `small_categories`"
   ]
  },
  {
   "cell_type": "code",
   "execution_count": 16,
   "id": "finished-airfare",
   "metadata": {
    "execution": {
     "iopub.execute_input": "2021-04-19T05:15:22.680343Z",
     "iopub.status.busy": "2021-04-19T05:15:22.679725Z",
     "iopub.status.idle": "2021-04-19T05:15:23.141127Z",
     "shell.execute_reply": "2021-04-19T05:15:23.140526Z"
    },
    "papermill": {
     "duration": 0.484098,
     "end_time": "2021-04-19T05:15:23.141264",
     "exception": false,
     "start_time": "2021-04-19T05:15:22.657166",
     "status": "completed"
    },
    "tags": []
   },
   "outputs": [
    {
     "name": "stderr",
     "output_type": "stream",
     "text": [
      "/opt/conda/lib/python3.7/site-packages/sklearn/model_selection/_split.py:668: UserWarning: The least populated class in y has only 1 members, which is less than n_splits=5.\n",
      "  % (min_groups, self.n_splits)), UserWarning)\n"
     ]
    },
    {
     "data": {
      "image/png": "[encoded data removed]",
      "text/plain": [
       "<Figure size 504x360 with 1 Axes>"
      ]
     },
     "metadata": {
      "needs_background": "light"
     },
     "output_type": "display_data"
    }
   ],
   "source": [
    "#Import stratifiedKFold to split the data equaly between folds\n",
    "from sklearn.model_selection import StratifiedKFold\n",
    "\n",
    "#Rename a copy of the dataset as folds\n",
    "folds = df.copy()\n",
    "\n",
    "#We will split the data between folds based on their 'category 1':\n",
    "from sklearn import preprocessing\n",
    "#Transformer the category 1 strings to encoded labels\n",
    "le = preprocessing.LabelEncoder()\n",
    "encode_cat1=le.fit(folds['Category 1'])\n",
    "folds['Category 1']= encode_cat1.transform(folds['Category 1'])\n",
    "\n",
    "#Split the dataset to N_FOLDS\n",
    "Fold = StratifiedKFold(n_splits=N_FOLDS, shuffle=True, random_state=42)\n",
    "for n, (train_index, val_index) in enumerate(Fold.split(folds, folds['Category 1'])):\n",
    "    folds.loc[val_index, 'fold'] = int(n)\n",
    "\n",
    "    #Save the fold number as a new column\n",
    "folds['fold'] = folds['fold'].astype(int)\n",
    "\n",
    "#Rename 'Category 1' as 'label' for a easier workflow\n",
    "folds=folds.rename(columns={'Category 1': 'label'})\n",
    "\n",
    "\n",
    "#Select the categories that have less than 15 rows and store them in 'small_categories'\n",
    "small_categories=folds['label'].value_counts()[15:].index.to_list()\n",
    "\n",
    "#Rename all the small categories as 1 so they become a new category\n",
    "#Replace them with a number that doesn't belong to the list of the TOP 15 categories. For ex: 900\n",
    "folds['label'] = folds['label'].replace(small_categories,900)\n",
    "\n",
    "#Plot the distribution of data per folds based on 'category 1'\n",
    "dfu = folds.groupby(['fold']).label.value_counts().unstack()\n",
    "\n",
    "# plot\n",
    "dfu.plot.bar(figsize=(7, 5))\n",
    "plt.legend(title='Categories 1', bbox_to_anchor=(1.05, 1), loc='upper left')\n",
    "plt.title('Classes in each fold: After removing small classes')\n",
    "plt.xlabel(' Folds')\n",
    "plt.ylabel('Count')\n",
    "plt.show()"
   ]
  },
  {
   "cell_type": "markdown",
   "id": "certain-difficulty",
   "metadata": {
    "papermill": {
     "duration": 0.021471,
     "end_time": "2021-04-19T05:15:23.183784",
     "exception": false,
     "start_time": "2021-04-19T05:15:23.162313",
     "status": "completed"
    },
    "tags": []
   },
   "source": [
    "Now we have all the categories distributed equally between the folds: Each fold has the same number of furniture items, DVD/Films... *(table below)*"
   ]
  },
  {
   "cell_type": "code",
   "execution_count": 17,
   "id": "automotive-proxy",
   "metadata": {
    "execution": {
     "iopub.execute_input": "2021-04-19T05:15:23.240096Z",
     "iopub.status.busy": "2021-04-19T05:15:23.239139Z",
     "iopub.status.idle": "2021-04-19T05:15:23.243658Z",
     "shell.execute_reply": "2021-04-19T05:15:23.244211Z"
    },
    "papermill": {
     "duration": 0.039804,
     "end_time": "2021-04-19T05:15:23.244411",
     "exception": false,
     "start_time": "2021-04-19T05:15:23.204607",
     "status": "completed"
    },
    "tags": []
   },
   "outputs": [
    {
     "data": {
      "text/html": [
       "<div>\n",
       "<style scoped>\n",
       "    .dataframe tbody tr th:only-of-type {\n",
       "        vertical-align: middle;\n",
       "    }\n",
       "\n",
       "    .dataframe tbody tr th {\n",
       "        vertical-align: top;\n",
       "    }\n",
       "\n",
       "    .dataframe thead th {\n",
       "        text-align: right;\n",
       "    }\n",
       "</style>\n",
       "<table border=\"1\" class=\"dataframe\">\n",
       "  <thead>\n",
       "    <tr style=\"text-align: right;\">\n",
       "      <th>label</th>\n",
       "      <th>8</th>\n",
       "      <th>9</th>\n",
       "      <th>12</th>\n",
       "      <th>14</th>\n",
       "      <th>19</th>\n",
       "      <th>20</th>\n",
       "      <th>24</th>\n",
       "      <th>29</th>\n",
       "      <th>31</th>\n",
       "      <th>32</th>\n",
       "      <th>34</th>\n",
       "      <th>35</th>\n",
       "      <th>45</th>\n",
       "      <th>51</th>\n",
       "      <th>91</th>\n",
       "      <th>900</th>\n",
       "    </tr>\n",
       "    <tr>\n",
       "      <th>fold</th>\n",
       "      <th></th>\n",
       "      <th></th>\n",
       "      <th></th>\n",
       "      <th></th>\n",
       "      <th></th>\n",
       "      <th></th>\n",
       "      <th></th>\n",
       "      <th></th>\n",
       "      <th></th>\n",
       "      <th></th>\n",
       "      <th></th>\n",
       "      <th></th>\n",
       "      <th></th>\n",
       "      <th></th>\n",
       "      <th></th>\n",
       "      <th></th>\n",
       "    </tr>\n",
       "  </thead>\n",
       "  <tbody>\n",
       "    <tr>\n",
       "      <th>0</th>\n",
       "      <td>26</td>\n",
       "      <td>28</td>\n",
       "      <td>200</td>\n",
       "      <td>14</td>\n",
       "      <td>9</td>\n",
       "      <td>8</td>\n",
       "      <td>19</td>\n",
       "      <td>13</td>\n",
       "      <td>53</td>\n",
       "      <td>172</td>\n",
       "      <td>15</td>\n",
       "      <td>17</td>\n",
       "      <td>105</td>\n",
       "      <td>9</td>\n",
       "      <td>168</td>\n",
       "      <td>96</td>\n",
       "    </tr>\n",
       "    <tr>\n",
       "      <th>1</th>\n",
       "      <td>26</td>\n",
       "      <td>28</td>\n",
       "      <td>201</td>\n",
       "      <td>14</td>\n",
       "      <td>10</td>\n",
       "      <td>9</td>\n",
       "      <td>19</td>\n",
       "      <td>13</td>\n",
       "      <td>53</td>\n",
       "      <td>172</td>\n",
       "      <td>15</td>\n",
       "      <td>17</td>\n",
       "      <td>105</td>\n",
       "      <td>9</td>\n",
       "      <td>168</td>\n",
       "      <td>93</td>\n",
       "    </tr>\n",
       "    <tr>\n",
       "      <th>2</th>\n",
       "      <td>26</td>\n",
       "      <td>28</td>\n",
       "      <td>201</td>\n",
       "      <td>14</td>\n",
       "      <td>10</td>\n",
       "      <td>9</td>\n",
       "      <td>19</td>\n",
       "      <td>14</td>\n",
       "      <td>53</td>\n",
       "      <td>172</td>\n",
       "      <td>15</td>\n",
       "      <td>18</td>\n",
       "      <td>104</td>\n",
       "      <td>9</td>\n",
       "      <td>168</td>\n",
       "      <td>92</td>\n",
       "    </tr>\n",
       "    <tr>\n",
       "      <th>3</th>\n",
       "      <td>26</td>\n",
       "      <td>27</td>\n",
       "      <td>200</td>\n",
       "      <td>14</td>\n",
       "      <td>9</td>\n",
       "      <td>8</td>\n",
       "      <td>18</td>\n",
       "      <td>14</td>\n",
       "      <td>54</td>\n",
       "      <td>172</td>\n",
       "      <td>15</td>\n",
       "      <td>18</td>\n",
       "      <td>105</td>\n",
       "      <td>9</td>\n",
       "      <td>167</td>\n",
       "      <td>96</td>\n",
       "    </tr>\n",
       "    <tr>\n",
       "      <th>4</th>\n",
       "      <td>26</td>\n",
       "      <td>28</td>\n",
       "      <td>200</td>\n",
       "      <td>14</td>\n",
       "      <td>9</td>\n",
       "      <td>8</td>\n",
       "      <td>18</td>\n",
       "      <td>13</td>\n",
       "      <td>53</td>\n",
       "      <td>171</td>\n",
       "      <td>15</td>\n",
       "      <td>17</td>\n",
       "      <td>105</td>\n",
       "      <td>8</td>\n",
       "      <td>167</td>\n",
       "      <td>99</td>\n",
       "    </tr>\n",
       "  </tbody>\n",
       "</table>\n",
       "</div>"
      ],
      "text/plain": [
       "label  8    9    12   14   19   20   24   29   31   32   34   35   45   51   \\\n",
       "fold                                                                          \n",
       "0       26   28  200   14    9    8   19   13   53  172   15   17  105    9   \n",
       "1       26   28  201   14   10    9   19   13   53  172   15   17  105    9   \n",
       "2       26   28  201   14   10    9   19   14   53  172   15   18  104    9   \n",
       "3       26   27  200   14    9    8   18   14   54  172   15   18  105    9   \n",
       "4       26   28  200   14    9    8   18   13   53  171   15   17  105    8   \n",
       "\n",
       "label  91   900  \n",
       "fold             \n",
       "0      168   96  \n",
       "1      168   93  \n",
       "2      168   92  \n",
       "3      167   96  \n",
       "4      167   99  "
      ]
     },
     "execution_count": 17,
     "metadata": {},
     "output_type": "execute_result"
    }
   ],
   "source": [
    "dfu"
   ]
  },
  {
   "cell_type": "markdown",
   "id": "statewide-action",
   "metadata": {
    "papermill": {
     "duration": 0.020701,
     "end_time": "2021-04-19T05:15:23.287333",
     "exception": false,
     "start_time": "2021-04-19T05:15:23.266632",
     "status": "completed"
    },
    "tags": []
   },
   "source": [
    "## One hot Encoding Categorical Variables\n",
    "Here we will create one hot encoded columns for the categorical features: `Currency`, `category 1`, `category 2`, and `Hierarchy`.\n",
    "* We will drop the `Date` column, we will not need it in modeling\n",
    "* In addition to the one hot encoded categorical features, we will use the numrical features `Days` and `Starting Bid`"
   ]
  },
  {
   "cell_type": "code",
   "execution_count": 18,
   "id": "thousand-retreat",
   "metadata": {
    "execution": {
     "iopub.execute_input": "2021-04-19T05:15:23.333116Z",
     "iopub.status.busy": "2021-04-19T05:15:23.332209Z",
     "iopub.status.idle": "2021-04-19T05:15:23.349644Z",
     "shell.execute_reply": "2021-04-19T05:15:23.348888Z"
    },
    "papermill": {
     "duration": 0.041369,
     "end_time": "2021-04-19T05:15:23.349790",
     "exception": false,
     "start_time": "2021-04-19T05:15:23.308421",
     "status": "completed"
    },
    "tags": []
   },
   "outputs": [
    {
     "data": {
      "text/plain": [
       "['encode_hier.joblib']"
      ]
     },
     "execution_count": 18,
     "metadata": {},
     "output_type": "execute_result"
    }
   ],
   "source": [
    "from sklearn import preprocessing\n",
    "#Transformer the category 1 strings to encoded labels\n",
    "le = preprocessing.LabelEncoder()\n",
    "\n",
    "dummies=folds.copy()\n",
    "encode_cur=le.fit(dummies['Currency'])\n",
    "dummies['Currency']= encode_cur.transform(dummies['Currency'])\n",
    "\n",
    "encode_cat2=le.fit(dummies['Category 2'])\n",
    "dummies['Category 2']= encode_cat2.transform(dummies['Category 2'])\n",
    "\n",
    "encode_hier=le.fit(dummies['Hierarchy'])\n",
    "dummies['Hierarchy']= encode_hier.transform(dummies['Hierarchy'])\n",
    "\n",
    "###SAVE encoders\n",
    "joblib.dump(encode_cat1, 'encode_cat1.joblib')\n",
    "joblib.dump(encode_cat2, 'encode_cat2.joblib')\n",
    "joblib.dump(encode_cur, 'encode_cur.joblib')\n",
    "joblib.dump(encode_hier, 'encode_hier.joblib')"
   ]
  },
  {
   "cell_type": "code",
   "execution_count": 19,
   "id": "framed-duplicate",
   "metadata": {
    "execution": {
     "iopub.execute_input": "2021-04-19T05:15:23.400224Z",
     "iopub.status.busy": "2021-04-19T05:15:23.399593Z",
     "iopub.status.idle": "2021-04-19T05:15:23.404737Z",
     "shell.execute_reply": "2021-04-19T05:15:23.404198Z"
    },
    "papermill": {
     "duration": 0.032962,
     "end_time": "2021-04-19T05:15:23.404898",
     "exception": false,
     "start_time": "2021-04-19T05:15:23.371936",
     "status": "completed"
    },
    "tags": []
   },
   "outputs": [],
   "source": [
    "dummies=dummies.drop(['index','Unnamed: 0','Auction Name','Date', 'fold', 'Winning Bid' ], axis=1)"
   ]
  },
  {
   "cell_type": "code",
   "execution_count": 20,
   "id": "possible-bathroom",
   "metadata": {
    "execution": {
     "iopub.execute_input": "2021-04-19T05:15:23.475155Z",
     "iopub.status.busy": "2021-04-19T05:15:23.473903Z",
     "iopub.status.idle": "2021-04-19T05:21:31.945662Z",
     "shell.execute_reply": "2021-04-19T05:21:31.946370Z"
    },
    "papermill": {
     "duration": 368.514968,
     "end_time": "2021-04-19T05:21:31.946611",
     "exception": false,
     "start_time": "2021-04-19T05:15:23.431643",
     "status": "completed"
    },
    "tags": []
   },
   "outputs": [
    {
     "name": "stdout",
     "output_type": "stream",
     "text": [
      "Fold 0\n",
      "Linear model: 22710774.148818284\n",
      "Lasso model: 1.4119899963512095\n",
      "Elastic net: 0.7312477838652872\n",
      "Ridge: 0.7268752754790684\n",
      "XGBoost: 0.6476945861035258\n",
      "------------------------------\n",
      "Fold 1\n",
      "Linear model: 6.637620886248687\n",
      "Lasso model: 1.4163620161651436\n",
      "Elastic net: 0.7352355133554779\n",
      "Ridge: 0.7339003342719551\n",
      "XGBoost: 0.6316158807267552\n",
      "------------------------------\n",
      "Fold 2\n",
      "Linear model: 3.44450728538157\n",
      "Lasso model: 1.4070653223737741\n",
      "Elastic net: 0.7263378698383677\n",
      "Ridge: 0.7233450871984146\n",
      "XGBoost: 0.6512202620147359\n",
      "------------------------------\n",
      "Fold 3\n",
      "Linear model: 5.799770041024599\n",
      "Lasso model: 1.4149462855075388\n",
      "Elastic net: 0.7256311148984355\n",
      "Ridge: 0.7213443439922292\n",
      "XGBoost: 0.6459297871686736\n",
      "------------------------------\n",
      "Fold 4\n",
      "Linear model: 42.201898192910754\n",
      "Lasso model: 1.4117662361195522\n",
      "Elastic net: 0.726712831144217\n",
      "Ridge: 0.7230207642931222\n",
      "XGBoost: 0.6333116793861524\n",
      "------------------------------\n"
     ]
    }
   ],
   "source": [
    "#Add the fold, label and Winning Bid columns to our preprocessed text data\n",
    "df2['fold']=folds['fold']\n",
    "df2['label']=folds['label']\n",
    "df2['Winning Bid']=folds['Winning Bid']\n",
    "\n",
    "\n",
    "#Loop and train the model the number of folds\n",
    "for fold in range(N_FOLDS):\n",
    "    \n",
    "    print(f'Fold {fold}')\n",
    "    \n",
    "    trn_idx = df2[df2['fold'] == fold].index #Get the index number of the training rows\n",
    "    train_ = df2.loc[trn_idx,:].reset_index(drop=True) #Select the training rows from text\n",
    "    dummy_tr= dummies.loc[trn_idx,:].reset_index(drop=True) #Select the training rows from dummies\n",
    "    \n",
    "    val_idx = df2[df2['fold'] != fold].index #Get the index number of the validation rows\n",
    "    val_ = df2.loc[val_idx,:].reset_index(drop=True) #Select the validation rows from text\n",
    "    dummy_val= dummies.loc[val_idx,:].reset_index(drop=True) ##Select the validation rows from dummies\n",
    "\n",
    "    #We fit the tfv (TfidVectorizer) to convert our text data to vectors\n",
    "    tfv_f=tfv.fit(list(train_['text_lemmatized']), list(val_['text_lemmatized']))\n",
    "    joblib.dump(tfv_f, 'tfv_f.joblib')\n",
    "\n",
    "    \n",
    "    \n",
    "    #Transform our text to vectors with tfv\n",
    "    xtrain_tfv =  tfv_f.transform(train_['remove_emoji']) \n",
    "    xtest_tfv =  tfv_f.transform(val_['remove_emoji'])\n",
    "    \n",
    "    if use_catogerical_features:\n",
    "        #Create a dataframe from the training text vectors and merge them with the categorical features\n",
    "        xtrain_tfv = pd.DataFrame(xtrain_tfv.toarray())\n",
    "        xtrain_tfv = pd.concat([xtrain_tfv, dummy_tr], axis=1)\n",
    "        \n",
    "        #Create a dataframe from the validation text vectors and merge them with the categorical features\n",
    "        xtest_tfv = pd.DataFrame(xtest_tfv.toarray())\n",
    "        xtest_tfv = pd.concat([xtest_tfv, dummy_val], axis=1)\n",
    "    \n",
    "    \n",
    "    #Set the target: Winning Bid for train and test\n",
    "    ytrain=train_['Winning Bid']\n",
    "    y_test=val_['Winning Bid']\n",
    "    \n",
    "    \n",
    "    #Log transform the target\n",
    "    ytrain = np.log1p(ytrain)\n",
    "    y_test = np.log1p(y_test)\n",
    "    \n",
    "    \n",
    "    ########## FIRST MODEL/ LinearRegression\n",
    "    from sklearn.linear_model import LinearRegression\n",
    "    clf = LinearRegression()\n",
    "    clf.fit(xtrain_tfv, ytrain)\n",
    "    \n",
    "    preds=clf.predict(xtest_tfv)\n",
    "    print(f'Linear model: {score(preds)}')\n",
    "    \n",
    "    \n",
    "    ########### SECOND MODEL: LASSO\n",
    "    from sklearn.linear_model import Lasso\n",
    "    import sklearn.model_selection as ms\n",
    "    lasso_mod=Lasso(alpha=1)\n",
    "    lasso_mod.fit(xtrain_tfv,ytrain)\n",
    "    \n",
    "    lasso_pred=lasso_mod.predict(xtest_tfv)\n",
    "    print(f'Lasso model: {score(lasso_pred)}')\n",
    "    \n",
    "    \n",
    "    ######## THIRD MODEL: ELASTICNET\n",
    "    from sklearn.linear_model import ElasticNetCV\n",
    "    alphas = [0.001]\n",
    "    l1ratio = [0.1]\n",
    "    elastic_cv = ElasticNetCV(cv=5, max_iter=1e7, alphas=alphas,  l1_ratio=l1ratio)\n",
    "    elasticmod = elastic_cv.fit(xtrain_tfv,ytrain.ravel())\n",
    "    \n",
    "    ela_pred=elasticmod.predict(xtest_tfv)\n",
    "    print(f'Elastic net: {score(ela_pred)}')\n",
    "  \n",
    "    \n",
    "    ######## FOURTH MODEL: RIDGE\n",
    "    import sklearn.model_selection as GridSearchCV\n",
    "    from sklearn.linear_model import Ridge\n",
    "    ridge_mod=Ridge(alpha=0.8)\n",
    "    ridge_mod.fit(xtrain_tfv,ytrain)\n",
    "    \n",
    "    ridge_pred=ridge_mod.predict(xtest_tfv)\n",
    "    print(f'Ridge: {score(ridge_pred)}')\n",
    "    \n",
    "    \n",
    "    \n",
    "    ####### FIFTH AND BEST MODEL: XGBoost\n",
    "    from xgboost.sklearn import XGBRegressor\n",
    "    xgb= XGBRegressor(base_score=0.5, booster='gbtree', colsample_bylevel=1,\n",
    "             colsample_bynode=1, colsample_bytree=0.5, gamma=0,\n",
    "             importance_type='gain', learning_rate=0.01, max_delta_step=0,\n",
    "             max_depth=3, min_child_weight=0, missing=None, n_estimators=4000,\n",
    "             n_jobs=1, nthread=None, objective='reg:squarederror', random_state=0,\n",
    "             reg_alpha=0.0001, reg_lambda=0.01, scale_pos_weight=1, seed=None,\n",
    "             silent=None, subsample=1, verbosity=1)\n",
    "    xgmod=xgb.fit(xtrain_tfv,ytrain)\n",
    "    \n",
    "    xg_pred=xgmod.predict(xtest_tfv)\n",
    "    print(f'XGBoost: {score(xg_pred)}')\n",
    " \n",
    "    \n",
    "    ##### SAVE XGBoost model as pickle file to be loaded for the Web App\n",
    "    #pickle.dump(xgmod, open(f'xgb_{fold}.pkl', 'wb'))\n",
    "    joblib.dump(xgmod, f'xgb—{fold}.joblib')\n",
    "    joblib.dump(ridge_mod, f'ridge_{fold}.joblib')\n",
    "    \n",
    "    print(\"------------------------------\")"
   ]
  },
  {
   "cell_type": "code",
   "execution_count": 21,
   "id": "exotic-blackjack",
   "metadata": {
    "execution": {
     "iopub.execute_input": "2021-04-19T05:21:32.015575Z",
     "iopub.status.busy": "2021-04-19T05:21:32.008550Z",
     "iopub.status.idle": "2021-04-19T05:21:32.021175Z",
     "shell.execute_reply": "2021-04-19T05:21:32.020610Z"
    },
    "papermill": {
     "duration": 0.046084,
     "end_time": "2021-04-19T05:21:32.021335",
     "exception": false,
     "start_time": "2021-04-19T05:21:31.975251",
     "status": "completed"
    },
    "tags": []
   },
   "outputs": [
    {
     "data": {
      "text/html": [
       "<div>\n",
       "<style scoped>\n",
       "    .dataframe tbody tr th:only-of-type {\n",
       "        vertical-align: middle;\n",
       "    }\n",
       "\n",
       "    .dataframe tbody tr th {\n",
       "        vertical-align: top;\n",
       "    }\n",
       "\n",
       "    .dataframe thead th {\n",
       "        text-align: right;\n",
       "    }\n",
       "</style>\n",
       "<table border=\"1\" class=\"dataframe\">\n",
       "  <thead>\n",
       "    <tr style=\"text-align: right;\">\n",
       "      <th></th>\n",
       "      <th>Winning Bid</th>\n",
       "      <th>Prediction</th>\n",
       "    </tr>\n",
       "  </thead>\n",
       "  <tbody>\n",
       "    <tr>\n",
       "      <th>0</th>\n",
       "      <td>405.10</td>\n",
       "      <td>43.926903</td>\n",
       "    </tr>\n",
       "    <tr>\n",
       "      <th>1</th>\n",
       "      <td>154.85</td>\n",
       "      <td>119.105682</td>\n",
       "    </tr>\n",
       "    <tr>\n",
       "      <th>2</th>\n",
       "      <td>921.85</td>\n",
       "      <td>52.490425</td>\n",
       "    </tr>\n",
       "    <tr>\n",
       "      <th>3</th>\n",
       "      <td>632.00</td>\n",
       "      <td>43.360867</td>\n",
       "    </tr>\n",
       "    <tr>\n",
       "      <th>4</th>\n",
       "      <td>946.00</td>\n",
       "      <td>188.024323</td>\n",
       "    </tr>\n",
       "    <tr>\n",
       "      <th>5</th>\n",
       "      <td>780.00</td>\n",
       "      <td>45.304634</td>\n",
       "    </tr>\n",
       "    <tr>\n",
       "      <th>6</th>\n",
       "      <td>56.00</td>\n",
       "      <td>31.524982</td>\n",
       "    </tr>\n",
       "    <tr>\n",
       "      <th>7</th>\n",
       "      <td>59.00</td>\n",
       "      <td>42.729588</td>\n",
       "    </tr>\n",
       "    <tr>\n",
       "      <th>8</th>\n",
       "      <td>990.00</td>\n",
       "      <td>137.902206</td>\n",
       "    </tr>\n",
       "    <tr>\n",
       "      <th>9</th>\n",
       "      <td>155.00</td>\n",
       "      <td>119.105682</td>\n",
       "    </tr>\n",
       "  </tbody>\n",
       "</table>\n",
       "</div>"
      ],
      "text/plain": [
       "   Winning Bid  Prediction\n",
       "0       405.10   43.926903\n",
       "1       154.85  119.105682\n",
       "2       921.85   52.490425\n",
       "3       632.00   43.360867\n",
       "4       946.00  188.024323\n",
       "5       780.00   45.304634\n",
       "6        56.00   31.524982\n",
       "7        59.00   42.729588\n",
       "8       990.00  137.902206\n",
       "9       155.00  119.105682"
      ]
     },
     "execution_count": 21,
     "metadata": {},
     "output_type": "execute_result"
    }
   ],
   "source": [
    "# We use np.expm1 to get the original numbers after we use log transform np.log1p during training\n",
    "final=np.expm1(y_test)\n",
    "final1=np.expm1(xg_pred)\n",
    "\n",
    "#Verify the original and predicted Winning Bed\n",
    "final_result={'Winning Bid': final, 'Prediction': final1}\n",
    "final_results=pd.DataFrame(final_result)\n",
    "final_results.head(10)"
   ]
  }
 ],
 "metadata": {
  "kernelspec": {
   "display_name": "Python 3",
   "language": "python",
   "name": "python3"
  },
  "language_info": {
   "codemirror_mode": {
    "name": "ipython",
    "version": 3
   },
   "file_extension": ".py",
   "mimetype": "text/x-python",
   "name": "python",
   "nbconvert_exporter": "python",
   "pygments_lexer": "ipython3",
   "version": "3.7.9"
  },
  "papermill": {
   "default_parameters": {},
   "duration": 387.427065,
   "end_time": "2021-04-19T05:21:33.263094",
   "environment_variables": {},
   "exception": null,
   "input_path": "__notebook__.ipynb",
   "output_path": "__notebook__.ipynb",
   "parameters": {},
   "start_time": "2021-04-19T05:15:05.836029",
   "version": "2.3.2"
  }
 },
 "nbformat": 4,
 "nbformat_minor": 5
}
